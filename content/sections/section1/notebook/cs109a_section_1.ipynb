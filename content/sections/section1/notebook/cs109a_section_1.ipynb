{
 "cells": [
  {
   "cell_type": "markdown",
   "metadata": {},
   "source": [
    "# <img style=\"float: left; padding-right: 10px; width: 45px\" src=\"https://raw.githubusercontent.com/Harvard-IACS/2018-CS109A/master/content/styles/iacs.png\"> CS109A Introduction to Data Science \n",
    "\n",
    "## Standard Section 1: Introduction to Web Scraping\n",
    "\n",
    "**Harvard University**<br/>\n",
    "**Fall 2019**<br/>\n",
    "**Instructors**: Pavlos Protopapas, Kevin Rader, and Chris Tanner<br/>\n",
    "**Section Leaders**: Marios Mattheakis, Abhimanyu (Abhi) Vasishth, Robbert (Rob) Struyven<br/>\n",
    "\n",
    "\n",
    "\n",
    "<hr style='height:2px'>"
   ]
  },
  {
   "cell_type": "code",
   "execution_count": 5,
   "metadata": {},
   "outputs": [
    {
     "name": "stdout",
     "output_type": "stream",
     "text": [
      "<IPython.core.display.HTML object>\n"
     ]
    }
   ],
   "source": [
    "## RUN THIS CELL TO GET THE RIGHT FORMATTING \n",
    "import requests\n",
    "from IPython.core.display import HTML\n",
    "styles = requests.get(\"https://raw.githubusercontent.com/Harvard-IACS/2018-CS109A/master/content/styles/cs109.css\").text\n",
    "print(HTML(styles))"
   ]
  },
  {
   "cell_type": "markdown",
   "metadata": {},
   "source": [
    "When we're done today, you will approach messy real-world data with confidence that you can get it into a format that you can manipulate.\n",
    "\n",
    "Specifically, our learning objectives are:\n",
    "* Understand the structure of an HTML document and use that structure to extract desired information\n",
    "* Use Python data structures such as lists, dictionaries, and Pandas DataFrames to store and manipulate information\n",
    "* Identify some other (semi-)structured formats commonly used for storing and transferring data, such as JSON and CSV\n",
    "* Practice using [Python](https://docs.python.org/3.6/) packages such as [BeautifulSoup](https://www.crummy.com/software/BeautifulSoup/bs4/doc/) and [Pandas](https://pandas.pydata.org/pandas-docs/stable/), including how to navigate their documentation to find functionality."
   ]
  },
  {
   "cell_type": "code",
   "execution_count": 6,
   "metadata": {},
   "outputs": [],
   "source": [
    "%matplotlib inline\n",
    "import numpy as np\n",
    "import matplotlib.pyplot as plt\n",
    "import pandas as pd\n",
    "import seaborn as sns\n",
    "sns.set_style(\"whitegrid\")\n",
    "sns.set_context(\"notebook\")\n",
    "import json\n",
    "\n",
    "import requests\n",
    "from bs4 import BeautifulSoup\n",
    "from IPython.display import HTML"
   ]
  },
  {
   "cell_type": "code",
   "execution_count": 13,
   "metadata": {},
   "outputs": [],
   "source": [
    "# Setting up 'requests' to make HTTPS requests properly takes some extra steps... we'll skip them for now.\n",
    "requests.packages.urllib3.disable_warnings()\n",
    "\n",
    "import warnings\n",
    "warnings.filterwarnings(\"ignore\")"
   ]
  },
  {
   "cell_type": "markdown",
   "metadata": {},
   "source": [
    "## Goals"
   ]
  },
  {
   "cell_type": "markdown",
   "metadata": {},
   "source": [
    "Is science becoming more collaborative over time? How about literature? Are there a few \"geniuses\" or lots of hard workers? One way we might answer those questions is by looking at Nobel Prizes. We could ask questions like:\n",
    "\n",
    "* Has anyone won a prize more than once?\n",
    "* How has the total number of recipients changed over time?\n",
    "* How has the number of recipients per award changed over time?\n",
    "\n",
    "\n",
    "To answer these questions, we'll need data: *who* received *what* award *when*. \n",
    "\n",
    "Before we dive into acquiring this data the way we've been teaching in class, let's pause to ask: **what are 5 different approaches we could take to acquiring Nobel Prize data**?\n",
    "\n",
    "\n",
    "\n"
   ]
  },
  {
   "cell_type": "markdown",
   "metadata": {},
   "source": [
    "## When possible: find a structured dataset (.csv,.json,.xls)\n",
    "\n",
    "After a google search we stumble upon this [dataset on github](https://github.com/OpenRefine/OpenRefine/blob/master/main/tests/data/nobel-prize-winners.csv). It is also in the section folder named `github-nobel-prize-winners.csv`.\n",
    "\n",
    "We use pandas to read it: "
   ]
  },
  {
   "cell_type": "code",
   "execution_count": 14,
   "metadata": {},
   "outputs": [
    {
     "data": {
      "text/html": [
       "<div>\n",
       "<style scoped>\n",
       "    .dataframe tbody tr th:only-of-type {\n",
       "        vertical-align: middle;\n",
       "    }\n",
       "\n",
       "    .dataframe tbody tr th {\n",
       "        vertical-align: top;\n",
       "    }\n",
       "\n",
       "    .dataframe thead th {\n",
       "        text-align: right;\n",
       "    }\n",
       "</style>\n",
       "<table border=\"1\" class=\"dataframe\">\n",
       "  <thead>\n",
       "    <tr style=\"text-align: right;\">\n",
       "      <th></th>\n",
       "      <th>year</th>\n",
       "      <th>discipline</th>\n",
       "      <th>winner</th>\n",
       "      <th>desc</th>\n",
       "    </tr>\n",
       "  </thead>\n",
       "  <tbody>\n",
       "    <tr>\n",
       "      <th>0</th>\n",
       "      <td>1901</td>\n",
       "      <td>chemistry</td>\n",
       "      <td>Jacobus H. van 't Hoff</td>\n",
       "      <td>in recognition of the extraordinary services h...</td>\n",
       "    </tr>\n",
       "    <tr>\n",
       "      <th>1</th>\n",
       "      <td>1901</td>\n",
       "      <td>literature</td>\n",
       "      <td>Sully Prudhomme</td>\n",
       "      <td>in special recognition of his poetic compositi...</td>\n",
       "    </tr>\n",
       "    <tr>\n",
       "      <th>2</th>\n",
       "      <td>1901</td>\n",
       "      <td>medicine</td>\n",
       "      <td>Emil von Behring</td>\n",
       "      <td>for his work on serum therapy, especially its ...</td>\n",
       "    </tr>\n",
       "    <tr>\n",
       "      <th>3</th>\n",
       "      <td>1901</td>\n",
       "      <td>peace</td>\n",
       "      <td>Henry Dunant</td>\n",
       "      <td>NaN</td>\n",
       "    </tr>\n",
       "    <tr>\n",
       "      <th>4</th>\n",
       "      <td>1901</td>\n",
       "      <td>peace</td>\n",
       "      <td>Fr&amp;eacute;d&amp;eacute;ric Passy</td>\n",
       "      <td>NaN</td>\n",
       "    </tr>\n",
       "  </tbody>\n",
       "</table>\n",
       "</div>"
      ],
      "text/plain": [
       "   year  discipline                        winner  \\\n",
       "0  1901   chemistry        Jacobus H. van 't Hoff   \n",
       "1  1901  literature               Sully Prudhomme   \n",
       "2  1901    medicine              Emil von Behring   \n",
       "3  1901       peace                  Henry Dunant   \n",
       "4  1901       peace  Fr&eacute;d&eacute;ric Passy   \n",
       "\n",
       "                                                desc  \n",
       "0  in recognition of the extraordinary services h...  \n",
       "1  in special recognition of his poetic compositi...  \n",
       "2  for his work on serum therapy, especially its ...  \n",
       "3                                                NaN  \n",
       "4                                                NaN  "
      ]
     },
     "execution_count": 14,
     "metadata": {},
     "output_type": "execute_result"
    }
   ],
   "source": [
    "df = pd.read_csv(\"../data/github-nobel-prize-winners.csv\")\n",
    "df.head()"
   ]
  },
  {
   "cell_type": "markdown",
   "metadata": {},
   "source": [
    "Or you may want to read an xlsx file:\n",
    "\n",
    "(Potential missing package; you might need to run the following command in your terminal first: ```!conda install xlrd```)"
   ]
  },
  {
   "cell_type": "code",
   "execution_count": 9,
   "metadata": {},
   "outputs": [
    {
     "data": {
      "text/html": [
       "<div>\n",
       "<style scoped>\n",
       "    .dataframe tbody tr th:only-of-type {\n",
       "        vertical-align: middle;\n",
       "    }\n",
       "\n",
       "    .dataframe tbody tr th {\n",
       "        vertical-align: top;\n",
       "    }\n",
       "\n",
       "    .dataframe thead th {\n",
       "        text-align: right;\n",
       "    }\n",
       "</style>\n",
       "<table border=\"1\" class=\"dataframe\">\n",
       "  <thead>\n",
       "    <tr style=\"text-align: right;\">\n",
       "      <th></th>\n",
       "      <th>year</th>\n",
       "      <th>discipline</th>\n",
       "      <th>winner</th>\n",
       "      <th>desc</th>\n",
       "    </tr>\n",
       "  </thead>\n",
       "  <tbody>\n",
       "    <tr>\n",
       "      <th>0</th>\n",
       "      <td>1901</td>\n",
       "      <td>chemistry</td>\n",
       "      <td>Jacobus H. van 't Hoff</td>\n",
       "      <td>in recognition of the extraordinary services h...</td>\n",
       "    </tr>\n",
       "    <tr>\n",
       "      <th>1</th>\n",
       "      <td>1901</td>\n",
       "      <td>literature</td>\n",
       "      <td>Sully Prudhomme</td>\n",
       "      <td>in special recognition of his poetic compositi...</td>\n",
       "    </tr>\n",
       "    <tr>\n",
       "      <th>2</th>\n",
       "      <td>1901</td>\n",
       "      <td>medicine</td>\n",
       "      <td>Emil von Behring</td>\n",
       "      <td>for his work on serum therapy, especially its ...</td>\n",
       "    </tr>\n",
       "    <tr>\n",
       "      <th>3</th>\n",
       "      <td>1901</td>\n",
       "      <td>peace</td>\n",
       "      <td>Henry Dunant</td>\n",
       "      <td>NaN</td>\n",
       "    </tr>\n",
       "    <tr>\n",
       "      <th>4</th>\n",
       "      <td>1901</td>\n",
       "      <td>peace</td>\n",
       "      <td>Fr&amp;eacute;d&amp;eacute;ric Passy</td>\n",
       "      <td>NaN</td>\n",
       "    </tr>\n",
       "  </tbody>\n",
       "</table>\n",
       "</div>"
      ],
      "text/plain": [
       "   year  discipline                        winner  \\\n",
       "0  1901   chemistry        Jacobus H. van 't Hoff   \n",
       "1  1901  literature               Sully Prudhomme   \n",
       "2  1901    medicine              Emil von Behring   \n",
       "3  1901       peace                  Henry Dunant   \n",
       "4  1901       peace  Fr&eacute;d&eacute;ric Passy   \n",
       "\n",
       "                                                desc  \n",
       "0  in recognition of the extraordinary services h...  \n",
       "1  in special recognition of his poetic compositi...  \n",
       "2  for his work on serum therapy, especially its ...  \n",
       "3                                                NaN  \n",
       "4                                                NaN  "
      ]
     },
     "execution_count": 9,
     "metadata": {},
     "output_type": "execute_result"
    }
   ],
   "source": [
    "df = pd.read_excel(\"../data/github-nobel-prize-winners.xlsx\")\n",
    "df.head()"
   ]
  },
  {
   "cell_type": "markdown",
   "metadata": {},
   "source": [
    "## QUIZ: Did anyone recieve the Nobel Prize more than once?"
   ]
  },
  {
   "cell_type": "markdown",
   "metadata": {},
   "source": [
    "**How would you check if anyone recieved more than one nobel prize?**"
   ]
  },
  {
   "cell_type": "code",
   "execution_count": 12,
   "metadata": {},
   "outputs": [
    {
     "name": "stdout",
     "output_type": "stream",
     "text": [
      "Marie Curie\n",
      "No Prize was Awarded\n",
      "No Prize was Awarded\n",
      "No Prize was Awarded\n",
      "No Prize was Awarded\n",
      "No Prize was Awarded\n",
      "No Prize was Awarded\n",
      "No Prize was Awarded\n",
      "No Prize was Awarded\n",
      "No Prize was Awarded\n",
      "No Prize was Awarded\n",
      "No Prize was Awarded\n",
      "No Prize was Awarded\n",
      "No Prize was Awarded\n",
      "No Prize was Awarded\n",
      "No Prize was Awarded\n",
      "No Prize was Awarded\n",
      "No Prize was Awarded\n",
      "No Prize was Awarded\n",
      "No Prize was Awarded\n",
      "No Prize was Awarded\n",
      "No Prize was Awarded\n",
      "No Prize was Awarded\n",
      "No Prize was Awarded\n",
      "No Prize was Awarded\n",
      "No Prize was Awarded\n",
      "No Prize was Awarded\n",
      "No Prize was Awarded\n",
      "No Prize was Awarded\n",
      "No Prize was Awarded\n",
      "No Prize was Awarded\n",
      "No Prize was Awarded\n",
      "No Prize was Awarded\n",
      "No Prize was Awarded\n",
      "No Prize was Awarded\n",
      "No Prize was Awarded\n",
      "No Prize was Awarded\n",
      "No Prize was Awarded\n",
      "No Prize was Awarded\n",
      "No Prize was Awarded\n",
      "No Prize was Awarded\n",
      "No Prize was Awarded\n",
      "No Prize was Awarded\n",
      "International Committee of the Red Cross\n",
      "No Prize was Awarded\n",
      "No Prize was Awarded\n",
      "No Prize was Awarded\n",
      "Linus Pauling\n",
      "International Committee of the Red Cross\n",
      "No Prize was Awarded\n",
      "No Prize was Awarded\n",
      "No Prize was Awarded\n",
      "John Bardeen\n",
      "Frederick Sanger\n",
      "Office of the United Nations High Commissioner for Refugees\n"
     ]
    }
   ],
   "source": [
    "# list storing all the names \n",
    "name_winners = []\n",
    "for name in df.winner:\n",
    "    # Check if we already encountered this name: \n",
    "    if name in name_winners:\n",
    "        # if so, print the name\n",
    "        print(name)\n",
    "    else:\n",
    "        # otherwhise the name to the list\n",
    "        name_winners.append(name)"
   ]
  },
  {
   "cell_type": "markdown",
   "metadata": {},
   "source": [
    "**We don't want to print \"No Prize was Awarded\" all the time.**"
   ]
  },
  {
   "cell_type": "code",
   "execution_count": 17,
   "metadata": {},
   "outputs": [
    {
     "name": "stdout",
     "output_type": "stream",
     "text": [
      "No Prize was Awarded 49\n",
      "International Committee of the Red Cross 3\n",
      "Marie Curie 2\n",
      "Linus Pauling 2\n",
      "Office of the United Nations High Commissioner for Refugees 2\n",
      "John Bardeen 2\n",
      "Frederick Sanger 2\n",
      "Jacobus H. van 't Hoff 1\n",
      "Sully Prudhomme 1\n",
      "Emil von Behring 1\n",
      "Henry Dunant 1\n",
      "Fr&eacute;d&eacute;ric Passy 1\n",
      "Wilhelm Conrad R&ouml;ntgen 1\n",
      "Emil Fischer 1\n",
      "Theodor Mommsen 1\n",
      "Ronald Ross 1\n",
      "&Eacute;lie Ducommun 1\n",
      "Albert Gobat 1\n",
      "Hendrik A. Lorentz 1\n",
      "Pieter Zeeman 1\n",
      "Svante Arrhenius 1\n",
      "Bj&oslash;rnstjerne Bj&oslash;rnson 1\n",
      "Niels Ryberg Finsen 1\n",
      "Randal Cremer 1\n",
      "Henri Becquerel 1\n",
      "Pierre Curie 1\n",
      "Sir William Ramsay 1\n",
      "Jos&eacute; Echegaray 1\n",
      "Fr&eacute;d&eacute;ric Mistral 1\n",
      "Ivan Pavlov 1\n",
      "Institute of International Law 1\n",
      "Lord Rayleigh 1\n",
      "Adolf von Baeyer 1\n",
      "Henryk Sienkiewicz 1\n",
      "Robert Koch 1\n",
      "Bertha von Suttner 1\n",
      "Philipp Lenard 1\n",
      "Henri Moissan 1\n",
      "Giosu&egrave; Carducci 1\n",
      "Camillo Golgi 1\n",
      "Santiago Ram&oacute;n y Cajal 1\n",
      "Theodore Roosevelt 1\n",
      "J.J. Thomson 1\n",
      "Eduard Buchner 1\n",
      "Rudyard Kipling 1\n",
      "Alphonse Laveran 1\n",
      "Ernesto Teodoro Moneta 1\n",
      "Louis Renault 1\n",
      "Albert A. Michelson 1\n",
      "Ernest Rutherford 1\n",
      "Rudolf Eucken 1\n",
      "Paul Ehrlich 1\n",
      "Ilya Mechnikov 1\n",
      "Klas Pontus Arnoldson 1\n",
      "Fredrik Bajer 1\n",
      "Gabriel Lippmann 1\n",
      "Wilhelm Ostwald 1\n",
      "Selma Lagerl&ouml;f 1\n",
      "Theodor Kocher 1\n",
      "Auguste Beernaert 1\n",
      "Paul Henri d'Estournelles de Constant 1\n",
      "Ferdinand Braun 1\n",
      "Guglielmo Marconi 1\n",
      "Otto Wallach 1\n",
      "Paul Heyse 1\n",
      "Albrecht Kossel 1\n",
      "Permanent International Peace Bureau 1\n",
      "Johannes Diderik van der Waals 1\n",
      "Maurice Maeterlinck 1\n",
      "Allvar Gullstrand 1\n",
      "Tobias Asser 1\n",
      "Alfred Fried 1\n",
      "Wilhelm Wien 1\n",
      "Victor Grignard 1\n",
      "Paul Sabatier 1\n",
      "Gerhart Hauptmann 1\n",
      "Alexis Carrel 1\n",
      "Elihu Root 1\n",
      "Gustaf Dal&eacute;n 1\n",
      "Alfred Werner 1\n",
      "Rabindranath Tagore 1\n",
      "Charles Richet 1\n",
      "Henri La Fontaine 1\n",
      "Heike Kamerlingh Onnes 1\n",
      "Theodore W. Richards 1\n",
      "Robert B&aacute;r&aacute;ny 1\n",
      "Max von Laue 1\n",
      "Richard Willst&auml;tter 1\n",
      "Romain Rolland 1\n",
      "William Bragg 1\n",
      "Lawrence Bragg 1\n",
      "Verner von Heidenstam 1\n",
      "Karl Gjellerup 1\n",
      "Henrik Pontoppidan 1\n",
      "Charles Glover Barkla 1\n",
      "Fritz Haber 1\n",
      "Max Planck 1\n",
      "Carl Spitteler 1\n",
      "Jules Bordet 1\n",
      "Woodrow Wilson 1\n",
      "Johannes Stark 1\n",
      "Walther Nernst 1\n",
      "Knut Hamsun 1\n",
      "August Krogh 1\n",
      "L&eacute;on Bourgeois 1\n",
      "Charles Edouard Guillaume 1\n",
      "Frederick Soddy 1\n",
      "Anatole France 1\n",
      "Hjalmar Branting 1\n",
      "Christian Lange 1\n",
      "Albert Einstein 1\n",
      "Francis W. Aston 1\n",
      "Jacinto Benavente 1\n",
      "Archibald V. Hill 1\n",
      "Otto Meyerhof 1\n",
      "Fridtjof Nansen 1\n",
      "Niels Bohr 1\n",
      "Fritz Pregl 1\n",
      "William Butler Yeats 1\n",
      "Frederick G. Banting 1\n",
      "John Macleod 1\n",
      "Robert A. Millikan 1\n",
      "Wladyslaw Reymont 1\n",
      "Willem Einthoven 1\n",
      "Manne Siegbahn 1\n",
      "Richard Zsigmondy 1\n",
      "George Bernard Shaw 1\n",
      "Sir Austen Chamberlain 1\n",
      "Charles G. Dawes 1\n",
      "James Franck 1\n",
      "Gustav Hertz 1\n",
      "The Svedberg 1\n",
      "Grazia Deledda 1\n",
      "Johannes Fibiger 1\n",
      "Aristide Briand 1\n",
      "Gustav Stresemann 1\n",
      "Jean Baptiste Perrin 1\n",
      "Heinrich Wieland 1\n",
      "Henri Bergson 1\n",
      "Julius Wagner-Jauregg 1\n",
      "Ferdinand Buisson 1\n",
      "Ludwig Quidde 1\n",
      "Arthur H. Compton 1\n",
      "C.T.R. Wilson 1\n",
      "Adolf Windaus 1\n",
      "Sigrid Undset 1\n",
      "Charles Nicolle 1\n",
      "Owen Willans Richardson 1\n",
      "Arthur Harden 1\n",
      "Hans von Euler-Chelpin 1\n",
      "Thomas Mann 1\n",
      "Christiaan Eijkman 1\n",
      "Sir Frederick Hopkins 1\n",
      "Frank B. Kellogg 1\n",
      "Louis de Broglie 1\n",
      "Hans Fischer 1\n",
      "Sinclair Lewis 1\n",
      "Karl Landsteiner 1\n",
      "Nathan S&ouml;derblom 1\n",
      "Venkata Raman 1\n",
      "Friedrich Bergius 1\n",
      "Carl Bosch 1\n",
      "Erik Axel Karlfeldt 1\n",
      "Otto Warburg 1\n",
      "Jane Addams 1\n",
      "Nicholas Murray Butler 1\n",
      "Irving Langmuir 1\n",
      "John Galsworthy 1\n",
      "Edgar Adrian 1\n",
      "Sir Charles Sherrington 1\n",
      "Werner Heisenberg 1\n",
      "Ivan Bunin 1\n",
      "Thomas H. Morgan 1\n",
      "Sir Norman Angell 1\n",
      "Paul A.M. Dirac 1\n",
      "Erwin Schr&ouml;dinger 1\n",
      "Harold C. Urey 1\n",
      "Luigi Pirandello 1\n",
      "George R. Minot 1\n",
      "William P. Murphy 1\n",
      "George H. Whipple 1\n",
      "Arthur Henderson 1\n",
      "Fr&eacute;d&eacute;ric Joliot 1\n",
      "Ir&egrave;ne Joliot-Curie 1\n",
      "Hans Spemann 1\n",
      "Carl von Ossietzky 1\n",
      "James Chadwick 1\n",
      "Peter Debye 1\n",
      "Eugene O'Neill 1\n",
      "Sir Henry Dale 1\n",
      "Otto Loewi 1\n",
      "Carlos Saavedra Lamas 1\n",
      "Carl D. Anderson 1\n",
      "Victor F. Hess 1\n",
      "Norman Haworth 1\n",
      "Paul Karrer 1\n",
      "Roger Martin du Gard 1\n",
      "Albert Szent-Gy&ouml;rgyi 1\n",
      "Robert Cecil 1\n",
      "Clinton Davisson 1\n",
      "George Paget Thomson 1\n",
      "Richard Kuhn 1\n",
      "Pearl Buck 1\n",
      "Corneille Heymans 1\n",
      "Nansen International Office for Refugees 1\n",
      "Enrico Fermi 1\n",
      "Adolf Butenandt 1\n",
      "Leopold Ruzicka 1\n",
      "Frans Eemil Sillanp&auml;&auml; 1\n",
      "Gerhard Domagk 1\n",
      "Ernest Lawrence 1\n",
      "George de Hevesy 1\n",
      "Henrik Dam 1\n",
      "Edward A. Doisy 1\n",
      "Otto Stern 1\n",
      "Otto Hahn 1\n",
      "Johannes V. Jensen 1\n",
      "Joseph Erlanger 1\n",
      "Herbert S. Gasser 1\n",
      "Isidor Isaac Rabi 1\n",
      "Artturi Virtanen 1\n",
      "Gabriela Mistral 1\n",
      "Ernst B. Chain 1\n",
      "Sir Alexander Fleming 1\n",
      "Sir Howard Florey 1\n",
      "Cordell Hull 1\n",
      "Wolfgang Pauli 1\n",
      "John H. Northrop 1\n",
      "Wendell M. Stanley 1\n",
      "James B. Sumner 1\n",
      "Hermann Hesse 1\n",
      "Hermann J. Muller 1\n",
      "Emily Greene Balch 1\n",
      "John R. Mott 1\n",
      "Percy W. Bridgman 1\n",
      "Sir Robert Robinson 1\n",
      "Andr&eacute; Gide 1\n",
      "Carl Cori 1\n",
      "Gerty Cori 1\n",
      "Bernardo Houssay 1\n",
      "Friends Service Council 1\n",
      "American Friends Service Committee 1\n",
      "Edward V. Appleton 1\n",
      "Arne Tiselius 1\n",
      "T.S. Eliot 1\n",
      "Paul M&uuml;ller 1\n",
      "Patrick M.S. Blackett 1\n",
      "William F. Giauque 1\n",
      "William Faulkner 1\n",
      "Walter Hess 1\n",
      "Egas Moniz 1\n",
      "Lord Boyd Orr 1\n",
      "Hideki Yukawa 1\n",
      "Kurt Alder 1\n",
      "Otto Diels 1\n",
      "Bertrand Russell 1\n",
      "Philip S. Hench 1\n",
      "Edward C. Kendall 1\n",
      "Tadeus Reichstein 1\n",
      "Ralph Bunche 1\n",
      "Cecil Powell 1\n",
      "Edwin M. McMillan 1\n",
      "Glenn T. Seaborg 1\n",
      "P&auml;r Lagerkvist 1\n",
      "Max Theiler 1\n",
      "L&eacute;on Jouhaux 1\n",
      "John Cockcroft 1\n",
      "Ernest T.S. Walton 1\n",
      "Archer J.P. Martin 1\n",
      "Richard L.M. Synge 1\n",
      "Fran&ccedil;ois Mauriac 1\n",
      "Selman A. Waksman 1\n",
      "Albert Schweitzer 1\n",
      "Felix Bloch 1\n",
      "E. M. Purcell 1\n",
      "Hermann Staudinger 1\n",
      "Winston Churchill 1\n",
      "Hans Krebs 1\n",
      "Fritz Lipmann 1\n",
      "George C. Marshall 1\n",
      "Frits Zernike 1\n",
      "Ernest Hemingway 1\n",
      "John F. Enders 1\n",
      "Frederick C. Robbins 1\n",
      "Thomas H. Weller 1\n",
      "Max Born 1\n",
      "Walther Bothe 1\n",
      "Vincent du Vigneaud 1\n",
      "Halld&oacute;r Laxness 1\n",
      "Hugo Theorell 1\n",
      "Polykarp Kusch 1\n",
      "Willis E. Lamb 1\n",
      "Sir Cyril Hinshelwood 1\n",
      "Nikolay Semenov 1\n",
      "Juan Ram&oacute;n Jim&eacute;nez 1\n",
      "Andr&eacute; F. Cournand 1\n",
      "Werner Forssmann 1\n",
      "Dickinson W. Richards 1\n",
      "Walter H. Brattain 1\n",
      "William B. Shockley 1\n",
      "Lord Todd 1\n",
      "Albert Camus 1\n",
      "Daniel Bovet 1\n",
      "Lester Bowles Pearson 1\n",
      "Tsung-Dao Lee 1\n",
      "Chen Ning Yang 1\n",
      "Boris Pasternak 1\n",
      "George Beadle 1\n",
      "Joshua Lederberg 1\n",
      "Edward Tatum 1\n",
      "Georges Pire 1\n",
      "Pavel A. Cherenkov 1\n",
      "Il&acute;ja M. Frank 1\n",
      "Igor Y. Tamm 1\n",
      "Jaroslav Heyrovsky 1\n",
      "Salvatore Quasimodo 1\n",
      "Arthur Kornberg 1\n",
      "Severo Ochoa 1\n",
      "Philip Noel-Baker 1\n",
      "Owen Chamberlain 1\n",
      "Emilio Segr&egrave; 1\n",
      "Willard F. Libby 1\n",
      "Saint-John Perse 1\n",
      "Sir Frank Macfarlane Burnet 1\n",
      "Peter Medawar 1\n",
      "Albert Lutuli 1\n",
      "Donald A. Glaser 1\n",
      "Melvin Calvin 1\n",
      "Ivo Andric 1\n",
      "Georg von B&eacute;k&eacute;sy 1\n",
      "Dag Hammarskj&ouml;ld 1\n",
      "Robert Hofstadter 1\n",
      "Rudolf M&ouml;ssbauer 1\n",
      "John C. Kendrew 1\n",
      "Max F. Perutz 1\n",
      "John Steinbeck 1\n",
      "Francis Crick 1\n",
      "James Watson 1\n",
      "Maurice Wilkins 1\n",
      "Lev Landau 1\n",
      "Giulio Natta 1\n",
      "Karl Ziegler 1\n",
      "Giorgos Seferis 1\n",
      "Sir John Eccles 1\n",
      "Alan L. Hodgkin 1\n",
      "Andrew F. Huxley 1\n",
      "League of Red Cross Societies 1\n",
      "Maria Goeppert-Mayer 1\n",
      "J. Hans D. Jensen 1\n",
      "Eugene Wigner 1\n",
      "Dorothy Crowfoot Hodgkin 1\n",
      "Jean-Paul Sartre 1\n",
      "Konrad Bloch 1\n",
      "Feodor Lynen 1\n",
      "Martin Luther King 1\n",
      "Nicolay G. Basov 1\n",
      "Aleksandr M. Prokhorov 1\n",
      "Charles H. Townes 1\n",
      "Robert B. Woodward 1\n",
      "Mikhail Sholokhov 1\n",
      "Fran&ccedil;ois Jacob 1\n",
      "Andr&eacute; Lwoff 1\n",
      "Jacques Monod 1\n",
      "United Nations Children's Fund 1\n",
      "Richard P. Feynman 1\n",
      "Julian Schwinger 1\n",
      "Sin-Itiro Tomonaga 1\n",
      "Robert S. Mulliken 1\n",
      "Samuel Agnon 1\n",
      "Nelly Sachs 1\n",
      "Charles B. Huggins 1\n",
      "Peyton Rous 1\n",
      "Alfred Kastler 1\n",
      "Manfred Eigen 1\n",
      "Ronald G.W. Norrish 1\n",
      "George Porter 1\n",
      "Miguel Angel Asturias 1\n",
      "Ragnar Granit 1\n",
      "Haldan K. Hartline 1\n",
      "George Wald 1\n",
      "Hans Bethe 1\n",
      "Lars Onsager 1\n",
      "Yasunari Kawabata 1\n",
      "Robert W. Holley 1\n",
      "H. Gobind Khorana 1\n",
      "Marshall W. Nirenberg 1\n",
      "Ren&eacute; Cassin 1\n",
      "Luis Alvarez 1\n",
      "Derek Barton 1\n",
      "Odd Hassel 1\n",
      "Ragnar Frisch 1\n",
      "Jan Tinbergen 1\n",
      "Samuel Beckett 1\n",
      "Max Delbr&uuml;ck 1\n",
      "Alfred D. Hershey 1\n",
      "Salvador E. Luria 1\n",
      "International Labour Organization 1\n",
      "Murray Gell-Mann 1\n",
      "Luis Leloir 1\n",
      "Paul A. Samuelson 1\n",
      "Alexandr Solzhenitsyn 1\n",
      "Julius Axelrod 1\n",
      "Sir Bernard Katz 1\n",
      "Ulf von Euler 1\n",
      "Norman Borlaug 1\n",
      "Hannes Alfv&eacute;n 1\n",
      "Louis N&eacute;el 1\n",
      "Gerhard Herzberg 1\n",
      "Simon Kuznets 1\n",
      "Pablo Neruda 1\n",
      "Earl W. Sutherland, Jr. 1\n",
      "Willy Brandt 1\n",
      "Dennis Gabor 1\n",
      "Christian Anfinsen 1\n",
      "Stanford Moore 1\n",
      "William H. Stein 1\n",
      "Kenneth J. Arrow 1\n",
      "John R. Hicks 1\n",
      "Heinrich B&ouml;ll 1\n",
      "Gerald M. Edelman 1\n",
      "Rodney R. Porter 1\n",
      "Leon N. Cooper 1\n",
      "Robert Schrieffer 1\n",
      "Ernst Otto Fischer 1\n",
      "Geoffrey Wilkinson 1\n",
      "Wassily Leontief 1\n",
      "Patrick White 1\n",
      "Konrad Lorenz 1\n",
      "Nikolaas Tinbergen 1\n",
      "Karl von Frisch 1\n",
      "Le Duc Tho 1\n",
      "Henry Kissinger 1\n",
      "Leo Esaki 1\n",
      "Ivar Giaever 1\n",
      "Brian D. Josephson 1\n",
      "Paul J. Flory 1\n",
      "Gunnar Myrdal 1\n",
      "Friedrich August von Hayek 1\n",
      "Eyvind Johnson 1\n",
      "Harry Martinson 1\n",
      "Albert Claude 1\n",
      "Christian de Duve 1\n",
      "George E. Palade 1\n",
      "Se&aacute;n MacBride 1\n",
      "Eisaku Sato 1\n",
      "Antony Hewish 1\n",
      "Martin Ryle 1\n",
      "John Cornforth 1\n",
      "Vladimir Prelog 1\n",
      "Leonid Vitaliyevich Kantorovich 1\n",
      "Tjalling C. Koopmans 1\n",
      "Eugenio Montale 1\n",
      "David Baltimore 1\n",
      "Renato Dulbecco 1\n",
      "Howard M. Temin 1\n",
      "Andrei Sakharov 1\n",
      "Aage N. Bohr 1\n",
      "Ben R. Mottelson 1\n",
      "James Rainwater 1\n",
      "William Lipscomb 1\n",
      "Milton Friedman 1\n",
      "Saul Bellow 1\n",
      "Baruch S. Blumberg 1\n",
      "D. Carleton Gajdusek 1\n",
      "Mairead Corrigan 1\n",
      "Betty Williams 1\n",
      "Burton Richter 1\n",
      "Samuel C.C. Ting 1\n",
      "Ilya Prigogine 1\n",
      "James E. Meade 1\n",
      "Bertil Ohlin 1\n",
      "Vicente Aleixandre 1\n",
      "Roger Guillemin 1\n",
      "Andrew V. Schally 1\n",
      "Rosalyn Yalow 1\n",
      "Amnesty International 1\n",
      "Philip W. Anderson 1\n",
      "Sir Nevill F. Mott 1\n",
      "John H. van Vleck 1\n",
      "Peter Mitchell 1\n",
      "Herbert A. Simon 1\n",
      "Isaac Bashevis Singer 1\n",
      "Werner Arber 1\n",
      "Daniel Nathans 1\n",
      "Hamilton O. Smith 1\n",
      "Anwar al-Sadat 1\n",
      "Menachem Begin 1\n",
      "Pyotr Kapitsa 1\n",
      "Arno Penzias 1\n",
      "Robert Woodrow Wilson 1\n",
      "Herbert C. Brown 1\n",
      "Georg Wittig 1\n",
      "Sir Arthur Lewis 1\n",
      "Theodore W. Schultz 1\n",
      "Odysseus Elytis 1\n",
      "Allan M. Cormack 1\n",
      "Godfrey N. Hounsfield 1\n",
      "Mother Teresa 1\n",
      "Sheldon Glashow 1\n",
      "Abdus Salam 1\n",
      "Steven Weinberg 1\n",
      "Paul Berg 1\n",
      "Walter Gilbert 1\n",
      "Lawrence R. Klein 1\n",
      "Czeslaw Milosz 1\n",
      "Baruj Benacerraf 1\n",
      "Jean Dausset 1\n",
      "George D. Snell 1\n",
      "Adolfo P&eacute;rez Esquivel 1\n",
      "James Cronin 1\n",
      "Val Fitch 1\n",
      "Kenichi Fukui 1\n",
      "Roald Hoffmann 1\n",
      "James Tobin 1\n",
      "Elias Canetti 1\n",
      "David H. Hubel 1\n",
      "Roger W. Sperry 1\n",
      "Torsten N. Wiesel 1\n",
      "Nicolaas Bloembergen 1\n",
      "Arthur L. Schawlow 1\n",
      "Kai M. Siegbahn 1\n",
      "Aaron Klug 1\n",
      "George J. Stigler 1\n",
      "Gabriel Garc&iacute;a M&aacute;rquez 1\n",
      "Sune K. Bergstr&ouml;m 1\n",
      "Bengt I. Samuelsson 1\n",
      "John R. Vane 1\n",
      "Alfonso Garc&iacute;a Robles 1\n",
      "Alva Myrdal 1\n",
      "Kenneth G. Wilson 1\n",
      "Henry Taube 1\n",
      "Gerard Debreu 1\n",
      "William Golding 1\n",
      "Barbara McClintock 1\n",
      "Lech Walesa 1\n",
      "Subramanyan Chandrasekhar 1\n",
      "William A. Fowler 1\n",
      "Bruce Merrifield 1\n",
      "Richard Stone 1\n",
      "Jaroslav Seifert 1\n",
      "Niels K. Jerne 1\n",
      "Georges J.F. K&ouml;hler 1\n",
      "C&eacute;sar Milstein 1\n",
      "Desmond Tutu 1\n",
      "Carlo Rubbia 1\n",
      "Simon van der Meer 1\n",
      "Herbert A. Hauptman 1\n",
      "Jerome Karle 1\n",
      "Franco Modigliani 1\n",
      "Claude Simon 1\n",
      "Michael S. Brown 1\n",
      "Joseph L. Goldstein 1\n",
      "International Physicians for the Prevention of Nuclear War 1\n",
      "Klaus von Klitzing 1\n",
      "Dudley R. Herschbach 1\n",
      "Yuan T. Lee 1\n",
      "John C. Polanyi 1\n",
      "James M. Buchanan Jr. 1\n",
      "Wole Soyinka 1\n",
      "Stanley Cohen 1\n",
      "Rita Levi-Montalcini 1\n",
      "Elie Wiesel 1\n",
      "Gerd Binnig 1\n",
      "Heinrich Rohrer 1\n",
      "Ernst Ruska 1\n",
      "Donald J. Cram 1\n",
      "Jean-Marie Lehn 1\n",
      "Charles J. Pedersen 1\n",
      "Robert M. Solow 1\n",
      "Joseph Brodsky 1\n",
      "Susumu Tonegawa 1\n",
      "Oscar Arias S&aacute;nchez 1\n",
      "J. Georg Bednorz 1\n",
      "K. Alex M&uuml;ller 1\n",
      "Johann Deisenhofer 1\n",
      "Robert Huber 1\n",
      "Hartmut Michel 1\n",
      "Maurice Allais 1\n",
      "Naguib Mahfouz 1\n",
      "Sir James W. Black 1\n",
      "Gertrude B. Elion 1\n",
      "George H. Hitchings 1\n",
      "United Nations Peacekeeping Forces 1\n",
      "Leon M. Lederman 1\n",
      "Melvin Schwartz 1\n",
      "Jack Steinberger 1\n",
      "Sidney Altman 1\n",
      "Thomas R. Cech 1\n",
      "Trygve Haavelmo 1\n",
      "Camilo Jos&eacute; Cela 1\n",
      "J. Michael Bishop 1\n",
      "Harold E. Varmus 1\n",
      "The 14th Dalai Lama 1\n",
      "Hans G. Dehmelt 1\n",
      "Wolfgang Paul 1\n",
      "Norman F. Ramsey 1\n",
      "Elias James Corey 1\n",
      "Harry M. Markowitz 1\n",
      "Merton H. Miller 1\n",
      "William F. Sharpe 1\n",
      "Octavio Paz 1\n",
      "Joseph E. Murray 1\n",
      "E. Donnall Thomas 1\n",
      "Mikhail Gorbachev 1\n",
      "Jerome I. Friedman 1\n",
      "Henry W. Kendall 1\n",
      "Richard E. Taylor 1\n",
      "Richard R. Ernst 1\n",
      "Ronald H. Coase 1\n",
      "Nadine Gordimer 1\n",
      "Erwin Neher 1\n",
      "Bert Sakmann 1\n",
      "Aung San Suu Kyi 1\n",
      "Pierre-Gilles de Gennes 1\n",
      "Rudolph A. Marcus 1\n",
      "Gary S. Becker 1\n",
      "Derek Walcott 1\n",
      "Edmond H. Fischer 1\n",
      "Edwin G. Krebs 1\n",
      "Rigoberta Mench&uacute; Tum 1\n",
      "Georges Charpak 1\n",
      "Kary B. Mullis 1\n",
      "Michael Smith 1\n",
      "Robert W. Fogel 1\n",
      "Douglass C. North 1\n",
      "Toni Morrison 1\n",
      "Richard J. Roberts 1\n",
      "Phillip A. Sharp 1\n",
      "F.W. de Klerk 1\n",
      "Nelson Mandela 1\n",
      "Russell A. Hulse 1\n",
      "Joseph H. Taylor Jr. 1\n",
      "George A. Olah 1\n",
      "John C. Harsanyi 1\n",
      "John F. Nash Jr. 1\n",
      "Reinhard Selten 1\n",
      "Kenzaburo Oe 1\n",
      "Alfred G. Gilman 1\n",
      "Martin Rodbell 1\n",
      "Yasser Arafat 1\n",
      "Shimon Peres 1\n",
      "Yitzhak Rabin 1\n",
      "Bertram N. Brockhouse 1\n",
      "Clifford G. Shull 1\n",
      "Paul J. Crutzen 1\n",
      "Mario J. Molina 1\n",
      "F. Sherwood Rowland 1\n",
      "Robert E. Lucas Jr. 1\n",
      "Seamus Heaney 1\n",
      "Edward B. Lewis 1\n",
      "Christiane N&uuml;sslein-Volhard 1\n",
      "Eric F. Wieschaus 1\n",
      "Pugwash Conferences on Science and World Affairs 1\n",
      "Joseph Rotblat 1\n",
      "Martin L. Perl 1\n",
      "Frederick Reines 1\n",
      "Robert F. Curl Jr. 1\n",
      "Sir Harold Kroto 1\n",
      "Richard E. Smalley 1\n",
      "James A. Mirrlees 1\n",
      "William Vickrey 1\n",
      "Wislawa Szymborska 1\n",
      "Peter C. Doherty 1\n",
      "Rolf M. Zinkernagel 1\n",
      "Carlos Filipe Ximenes Belo 1\n",
      "Jos&eacute; Ramos-Horta 1\n",
      "David M. Lee 1\n",
      "Douglas D. Osheroff 1\n",
      "Robert C. Richardson 1\n",
      "Paul D. Boyer 1\n",
      "Jens C. Skou 1\n",
      "John E. Walker 1\n",
      "Robert C. Merton 1\n",
      "Myron S. Scholes 1\n",
      "Dario Fo 1\n",
      "Stanley B. Prusiner 1\n",
      "International Campaign to Ban Landmines 1\n",
      "Jody Williams 1\n",
      "Steven Chu 1\n",
      "Claude Cohen-Tannoudji 1\n",
      "William D. Phillips 1\n",
      "Walter Kohn 1\n",
      "John Pople 1\n",
      "Amartya Sen 1\n",
      "Jos&eacute; Saramago 1\n",
      "Robert F. Furchgott 1\n",
      "Louis J. Ignarro 1\n",
      "Ferid Murad 1\n",
      "John Hume 1\n",
      "David Trimble 1\n",
      "Robert B. Laughlin 1\n",
      "Horst L. St&ouml;rmer 1\n",
      "Daniel C. Tsui 1\n",
      "Ahmed Zewail 1\n",
      "Robert A. Mundell 1\n",
      "G&uuml;nter Grass 1\n",
      "G&uuml;nter Blobel 1\n",
      "M&eacute;decins Sans Fronti&egrave;res 1\n",
      "Gerardus 't Hooft 1\n",
      "Martinus J.G. Veltman 1\n",
      "Alan Heeger 1\n",
      "Alan G. MacDiarmid 1\n",
      "Hideki Shirakawa 1\n",
      "James J. Heckman 1\n",
      "Daniel L. McFadden 1\n",
      "Gao Xingjian 1\n",
      "Arvid Carlsson 1\n",
      "Paul Greengard 1\n",
      "Eric R. Kandel 1\n",
      "Kim Dae-jung 1\n",
      "Zhores I. Alferov 1\n",
      "Jack S. Kilby 1\n",
      "Herbert Kroemer 1\n",
      "William S. Knowles 1\n",
      "Ryoji Noyori 1\n",
      "K. Barry Sharpless 1\n",
      "George A. Akerlof 1\n",
      "A. Michael Spence 1\n",
      "Joseph E. Stiglitz 1\n",
      "V.S. Naipaul 1\n",
      "Leland H. Hartwell 1\n",
      "Tim Hunt 1\n",
      "Sir Paul Nurse 1\n",
      "United Nations 1\n",
      "Kofi Annan 1\n",
      "Eric A. Cornell 1\n",
      "Wolfgang Ketterle 1\n",
      "Carl E. Wieman 1\n",
      "John B. Fenn 1\n",
      "Koichi Tanaka 1\n",
      "Kurt W&uuml;thrich 1\n",
      "Daniel Kahneman 1\n",
      "Vernon L. Smith 1\n",
      "Imre Kert&eacute;sz 1\n",
      "Sydney Brenner 1\n",
      "H. Robert Horvitz 1\n",
      "John E. Sulston 1\n",
      "Jimmy Carter 1\n",
      "Raymond Davis Jr. 1\n",
      "Riccardo Giacconi 1\n",
      "Masatoshi Koshiba 1\n",
      "Peter Agre 1\n",
      "Roderick MacKinnon 1\n",
      "Robert F. Engle III 1\n",
      "Clive W.J. Granger 1\n",
      "J.M. Coetzee 1\n",
      "Paul C. Lauterbur 1\n",
      "Sir Peter Mansfield 1\n",
      "Shirin Ebadi 1\n",
      "Alexei A. Abrikosov 1\n",
      "Vitaly L. Ginzburg 1\n",
      "Anthony J. Leggett 1\n",
      "Aaron Ciechanover 1\n",
      "Avram Hershko 1\n",
      "Irwin Rose 1\n",
      "Finn E. Kydland 1\n",
      "Edward C. Prescott 1\n",
      "Elfriede Jelinek 1\n",
      "Richard Axel 1\n",
      "Linda B. Buck 1\n",
      "Wangari Maathai 1\n",
      "David J. Gross 1\n",
      "H. David Politzer 1\n",
      "Frank Wilczek 1\n",
      "Yves Chauvin 1\n",
      "Robert H. Grubbs 1\n",
      "Richard R. Schrock 1\n",
      "Robert J. Aumann 1\n",
      "Thomas C. Schelling 1\n",
      "Harold Pinter 1\n",
      "Barry J. Marshall 1\n",
      "J. Robin Warren 1\n",
      "International Atomic Energy Agency 1\n",
      "Mohamed ElBaradei 1\n",
      "Roy J. Glauber 1\n",
      "John L. Hall 1\n",
      "Theodor W. H&auml;nsch 1\n",
      "Roger D. Kornberg 1\n",
      "Edmund S. Phelps 1\n",
      "Orhan Pamuk 1\n",
      "Andrew Z. Fire 1\n",
      "Craig C. Mello 1\n",
      "Grameen Bank 1\n",
      "Muhammad Yunus 1\n",
      "John C. Mather 1\n",
      "George F. Smoot 1\n",
      "Gerhard Ertl 1\n",
      "Leonid Hurwicz 1\n",
      "Eric S. Maskin 1\n",
      "Roger B. Myerson 1\n",
      "Doris Lessing 1\n",
      "Mario R. Capecchi 1\n",
      "Sir Martin J. Evans 1\n",
      "Oliver Smithies 1\n",
      "Intergovernmental Panel on Climate Change (IPCC) 1\n",
      "Albert Arnold (Al) Gore Jr. 1\n",
      "Albert Fert 1\n",
      "Peter Gr&Atilde;&frac14;nberg 1\n"
     ]
    }
   ],
   "source": [
    "# Your code here\n",
    "nwin = dict()\n",
    "for name in df.winner :\n",
    "    nwin[name] = nwin.get(name, 0) + 1 \n",
    "\n",
    "lwin = sorted(nwin.items(), key=lambda x:x[1], reverse = True) \n",
    "dwin  = dict(lwin) \n",
    "\n",
    "for k,v in dwin.items() :\n",
    "    print(k,v)\n",
    "    "
   ]
  },
  {
   "cell_type": "markdown",
   "metadata": {},
   "source": [
    "**How can we make this into a oneligner?**"
   ]
  },
  {
   "cell_type": "code",
   "execution_count": 18,
   "metadata": {},
   "outputs": [
    {
     "name": "stdout",
     "output_type": "stream",
     "text": [
      "Marie Curie\n",
      "International Committee of the Red Cross\n",
      "Linus Pauling\n",
      "International Committee of the Red Cross\n",
      "John Bardeen\n",
      "Frederick Sanger\n",
      "Office of the United Nations High Commissioner for Refugees\n"
     ]
    }
   ],
   "source": [
    "winners = []\n",
    "[print(name) if (name in winners and name != \"No Prize was Awarded\") \n",
    " else winners.append(name) for name in df.winner];"
   ]
  },
  {
   "cell_type": "markdown",
   "metadata": {},
   "source": [
    "## Otherwhise: WEB SCRAPING"
   ]
  },
  {
   "cell_type": "markdown",
   "metadata": {},
   "source": [
    "Turns out that https://www.nobelprize.org/prizes/lists/all-nobel-prizes/ has the data we want. \n",
    "\n",
    "Let's take a look at the [website](https://www.nobelprize.org/prizes/lists/all-nobel-prizes/) and to look at the underhood HTML: right-click and click on `inspect` . Try to find structure in the tree-structured HTML.\n",
    "\n",
    "------\n",
    "\n",
    "But the `nobelprize.org` server is a little slow sometimes. Fortunately, the Internet Archive periodically crawls most of the Internet and saves what it finds. (That's a lot of data!) So let's grab the data from the Archive's \"Wayback Machine\" (great name!).\n",
    "\n",
    "We'll just give you the direct URL, but at the very end you'll see how we can get it out of a JSON response from the Wayback Machine API."
   ]
  },
  {
   "cell_type": "code",
   "execution_count": null,
   "metadata": {
    "collapsed": true
   },
   "outputs": [],
   "source": [
    "snapshot_url = 'http://web.archive.org/web/20180820111639/https://www.nobelprize.org/prizes/lists/all-nobel-prizes/'"
   ]
  },
  {
   "cell_type": "code",
   "execution_count": null,
   "metadata": {
    "collapsed": true
   },
   "outputs": [],
   "source": [
    "snapshot = requests.get(snapshot_url)\n",
    "snapshot"
   ]
  },
  {
   "cell_type": "markdown",
   "metadata": {},
   "source": [
    "What is a this Response [200]? Let's google: [`response 200 meaning`](https://www.google.com/search?q=response+200+meaning&oq=response+%5B200%5D+m&aqs=chrome.1.69i57j0l5.6184j0j7&sourceid=chrome&ie=UTF-8). All possible codes [here](https://developer.mozilla.org/en-US/docs/Web/HTTP/Status)."
   ]
  },
  {
   "cell_type": "code",
   "execution_count": null,
   "metadata": {
    "collapsed": true
   },
   "outputs": [],
   "source": [
    "type(snapshot)"
   ]
  },
  {
   "cell_type": "markdown",
   "metadata": {},
   "source": [
    "Try to request \"www.xoogle.be\"? What happens?"
   ]
  },
  {
   "cell_type": "code",
   "execution_count": null,
   "metadata": {
    "collapsed": true
   },
   "outputs": [],
   "source": [
    "snapshot_url2 = 'http://web.archive.org/web/20180820111639/https://www.xoogle.be'\n",
    "snapshot = requests.get(snapshot_url2)\n",
    "snapshot"
   ]
  },
  {
   "cell_type": "markdown",
   "metadata": {},
   "source": [
    "Always remember to “not to be evil” when scraping with requests! If downloading multiple pages (like you will be on HW1), always put a delay between requests (e.g, `time.sleep(1)`, with the `time` library) so you don’t unwittingly hammer someone’s webserver and/or get blocked."
   ]
  },
  {
   "cell_type": "code",
   "execution_count": null,
   "metadata": {
    "collapsed": true
   },
   "outputs": [],
   "source": [
    "snapshot = requests.get(snapshot_url)\n",
    "raw_html = snapshot.text\n",
    "print(raw_html[:500])"
   ]
  },
  {
   "cell_type": "markdown",
   "metadata": {},
   "source": [
    "## Regular Expressions\n",
    "You can find specific patterns or strings in text by using Regular Expressions: This is a pattern matching mechanism used throughout Computer Science and programming (it's not just specific to Python). Some great resources that we recommend, if you are interested in them (could be very useful for a homework problem):\n",
    "- https://docs.python.org/3.3/library/re.html\n",
    "- https://regexone.com\n",
    "- https://docs.python.org/3/howto/regex.html.\n",
    "\n",
    "Specify a specific sequence with the help of regex special characters. Some examples: \n",
    "- ```\\S``` : Matches any character which is not a Unicode whitespace character\n",
    "- ```\\d``` : Matches any Unicode decimal digit \n",
    "- ```*``` : Causes the resulting RE to match 0 or more repetitions of the preceding RE, as many repetitions as are possible.\n",
    "\n",
    "**Let's find all the occurances of 'Marie' in our raw_html:**"
   ]
  },
  {
   "cell_type": "code",
   "execution_count": null,
   "metadata": {
    "collapsed": true
   },
   "outputs": [],
   "source": [
    "import re "
   ]
  },
  {
   "cell_type": "code",
   "execution_count": null,
   "metadata": {
    "collapsed": true
   },
   "outputs": [],
   "source": [
    "re.findall(r'Marie',raw_html)"
   ]
  },
  {
   "cell_type": "markdown",
   "metadata": {},
   "source": [
    "**Using ```\\S``` to match 'Marie' + ' ' + 'any character which is not a Unicode whitespace character':**"
   ]
  },
  {
   "cell_type": "code",
   "execution_count": null,
   "metadata": {
    "collapsed": true
   },
   "outputs": [],
   "source": [
    "re.findall(r'Marie \\S',raw_html)"
   ]
  },
  {
   "cell_type": "markdown",
   "metadata": {},
   "source": [
    "**How would we find their lastnames that comes after Marie?**"
   ]
  },
  {
   "cell_type": "code",
   "execution_count": null,
   "metadata": {
    "collapsed": true
   },
   "outputs": [],
   "source": [
    "# Your code here\n"
   ]
  },
  {
   "cell_type": "markdown",
   "metadata": {},
   "source": [
    "Now, we have all our data in the notebook. Unfortunately, it is the form of one really long string, which is hard to work with directly. This is where BeautifulSoup comes in.  "
   ]
  },
  {
   "cell_type": "markdown",
   "metadata": {},
   "source": [
    "## Parse the HTML with BeautifulSoup"
   ]
  },
  {
   "cell_type": "code",
   "execution_count": null,
   "metadata": {
    "collapsed": true
   },
   "outputs": [],
   "source": [
    "soup = BeautifulSoup(raw_html, 'html.parser')"
   ]
  },
  {
   "cell_type": "markdown",
   "metadata": {},
   "source": [
    "Key BeautifulSoup functions we’ll be using in this section:\n",
    "- **`tag.prettify()`**: Returns cleaned-up version of raw HTML, useful for printing\n",
    "- **`tag.select(selector)`**: Return a list of nodes matching a [CSS selector](https://developer.mozilla.org/en-US/docs/Learn/CSS/Introduction_to_CSS/Simple_selectors)\n",
    "- **`tag.select_one(selector)`**: Return the first node matching a CSS selector\n",
    "- **`tag.text/soup.get_text()`**: Returns visible text of a node (e.g.,\"`<p>Some text</p>`\" -> \"Some text\")\n",
    "- **`tag.contents`**: A list of the immediate children of this node\n",
    "\n",
    "You can also use these functions to find nodes.\n",
    "- **`tag.find_all(tag_name, attrs=attributes_dict)`**: Returns a list of matching nodes\n",
    "- **`tag.find(tag_name, attrs=attributes_dict)`**: Returns first matching node\n",
    "\n",
    "BeautifulSoup is a very powerful library -- much more info here: https://www.crummy.com/software/BeautifulSoup/bs4/doc/"
   ]
  },
  {
   "cell_type": "markdown",
   "metadata": {},
   "source": [
    "### Let's practice some BeautifulSoup commands..."
   ]
  },
  {
   "cell_type": "markdown",
   "metadata": {},
   "source": [
    "**Print a cleaned-up version of the raw HTML**"
   ]
  },
  {
   "cell_type": "code",
   "execution_count": null,
   "metadata": {
    "collapsed": true
   },
   "outputs": [],
   "source": [
    "# Your code here\n"
   ]
  },
  {
   "cell_type": "markdown",
   "metadata": {},
   "source": [
    "**Find the first “title” object** "
   ]
  },
  {
   "cell_type": "code",
   "execution_count": null,
   "metadata": {
    "collapsed": true
   },
   "outputs": [],
   "source": [
    "# Your code here\n"
   ]
  },
  {
   "cell_type": "markdown",
   "metadata": {},
   "source": [
    "**Extract the text of first “title” object** "
   ]
  },
  {
   "cell_type": "code",
   "execution_count": null,
   "metadata": {
    "collapsed": true
   },
   "outputs": [],
   "source": [
    "# Your code here\n"
   ]
  },
  {
   "cell_type": "markdown",
   "metadata": {},
   "source": [
    "## Extracting award data"
   ]
  },
  {
   "cell_type": "markdown",
   "metadata": {},
   "source": [
    "Let's use the structure of the HTML document to extract the data we want.\n",
    "\n",
    "From inspecting the page in DevTools, we found that each award is in a `div` with a `by_year` class. Let's get all of them."
   ]
  },
  {
   "cell_type": "code",
   "execution_count": null,
   "metadata": {
    "collapsed": true
   },
   "outputs": [],
   "source": [
    "award_nodes = soup.select('.by_year')\n",
    "len(award_nodes)"
   ]
  },
  {
   "cell_type": "markdown",
   "metadata": {},
   "source": [
    "Let's pull out an example."
   ]
  },
  {
   "cell_type": "code",
   "execution_count": null,
   "metadata": {
    "collapsed": true
   },
   "outputs": [],
   "source": [
    "award_node = award_nodes[200]"
   ]
  },
  {
   "cell_type": "code",
   "execution_count": null,
   "metadata": {
    "collapsed": true
   },
   "outputs": [],
   "source": [
    "HTML(award_node.prettify())"
   ]
  },
  {
   "cell_type": "markdown",
   "metadata": {},
   "source": [
    "#### Let's practice getting data out of a BS Node"
   ]
  },
  {
   "cell_type": "markdown",
   "metadata": {},
   "source": [
    "### The prize title"
   ]
  },
  {
   "cell_type": "code",
   "execution_count": null,
   "metadata": {
    "collapsed": true
   },
   "outputs": [],
   "source": [
    "award_node.select_one('h3').text"
   ]
  },
  {
   "cell_type": "markdown",
   "metadata": {},
   "source": [
    "**How do we separate the title from the year?**"
   ]
  },
  {
   "cell_type": "code",
   "execution_count": null,
   "metadata": {
    "collapsed": true
   },
   "outputs": [],
   "source": [
    "# Your code here\n"
   ]
  },
  {
   "cell_type": "markdown",
   "metadata": {},
   "source": [
    "**How do we separate the year from the year?**"
   ]
  },
  {
   "cell_type": "code",
   "execution_count": null,
   "metadata": {
    "collapsed": true
   },
   "outputs": [],
   "source": [
    "# Your code here\n"
   ]
  },
  {
   "cell_type": "markdown",
   "metadata": {},
   "source": [
    "Let's put them into functions:"
   ]
  },
  {
   "cell_type": "code",
   "execution_count": null,
   "metadata": {
    "collapsed": true
   },
   "outputs": [],
   "source": [
    "def get_award_title(award_node):\n",
    "    return award_node.select_one('h3').text[:-4].strip()"
   ]
  },
  {
   "cell_type": "code",
   "execution_count": null,
   "metadata": {
    "collapsed": true
   },
   "outputs": [],
   "source": [
    "def get_award_year(award_node):\n",
    "    return int(award_node.select_one('h3').text[-4:])"
   ]
  },
  {
   "cell_type": "markdown",
   "metadata": {},
   "source": [
    "**Make a list of titles for all awards**"
   ]
  },
  {
   "cell_type": "code",
   "execution_count": null,
   "metadata": {
    "collapsed": true
   },
   "outputs": [],
   "source": [
    "list_awards = []\n",
    "for award_node in award_nodes:\n",
    "    list_awards.append(get_award_title(award_node))\n",
    "list_awards"
   ]
  },
  {
   "cell_type": "markdown",
   "metadata": {},
   "source": [
    "**Let's use list comprehension:**"
   ]
  },
  {
   "cell_type": "code",
   "execution_count": null,
   "metadata": {
    "collapsed": true
   },
   "outputs": [],
   "source": [
    "# Your code here\n"
   ]
  },
  {
   "cell_type": "markdown",
   "metadata": {},
   "source": [
    "### The recipients\n",
    "**How do we handle there being more than one?**"
   ]
  },
  {
   "cell_type": "code",
   "execution_count": null,
   "metadata": {
    "collapsed": true
   },
   "outputs": [],
   "source": [
    "[node.text for node in award_node.select('h6 a')]"
   ]
  },
  {
   "cell_type": "markdown",
   "metadata": {},
   "source": [
    "We'll leave them as a list for now, to return to this later."
   ]
  },
  {
   "cell_type": "markdown",
   "metadata": {},
   "source": [
    "### The prize \"motivation\"\n",
    "\n",
    "**How would you get the 'motivation'/reason of the prize from the following ```award_node```?**"
   ]
  },
  {
   "cell_type": "code",
   "execution_count": null,
   "metadata": {
    "collapsed": true
   },
   "outputs": [],
   "source": [
    "award_node = award_nodes[200]\n",
    "award_node"
   ]
  },
  {
   "cell_type": "code",
   "execution_count": null,
   "metadata": {
    "collapsed": true
   },
   "outputs": [],
   "source": [
    "# Your code here\n"
   ]
  },
  {
   "cell_type": "markdown",
   "metadata": {},
   "source": [
    "Putting everything into functions: "
   ]
  },
  {
   "cell_type": "code",
   "execution_count": null,
   "metadata": {
    "collapsed": true
   },
   "outputs": [],
   "source": [
    "def get_award_motivation(award_node):\n",
    "    award_node = award_node.select_one('p')\n",
    "    if not award_node:\n",
    "        return None\n",
    "    return award_node.text #.lstrip('\\u201c').rstrip('\\u201d')"
   ]
  },
  {
   "cell_type": "code",
   "execution_count": null,
   "metadata": {
    "collapsed": true
   },
   "outputs": [],
   "source": [
    "def get_recipients(award_node):\n",
    "    return [node.text for node in award_node.select('h6 a')]"
   ]
  },
  {
   "cell_type": "markdown",
   "metadata": {},
   "source": [
    "## Let's create a Pandas dataframe"
   ]
  },
  {
   "cell_type": "markdown",
   "metadata": {},
   "source": [
    "Now let's get all of the awards."
   ]
  },
  {
   "cell_type": "code",
   "execution_count": null,
   "metadata": {
    "collapsed": true
   },
   "outputs": [],
   "source": [
    "awards = []\n",
    "for award_node in soup.select('.by_year'):\n",
    "    recipients = get_recipients(award_node)\n",
    "    award = {}\n",
    "    award['title'] = get_award_title(award_node)\n",
    "    award['year'] = get_award_year(award_node)\n",
    "    award['recipients'] = recipients\n",
    "    award['num_recipients'] = len(recipients)\n",
    "    award['motivation'] = get_award_motivation(award_node)    \n",
    "    awards.append(award)"
   ]
  },
  {
   "cell_type": "code",
   "execution_count": null,
   "metadata": {
    "collapsed": true
   },
   "outputs": [],
   "source": [
    "df_awards_raw = pd.DataFrame(awards)"
   ]
  },
  {
   "cell_type": "code",
   "execution_count": null,
   "metadata": {
    "collapsed": true
   },
   "outputs": [],
   "source": [
    "df_awards_raw"
   ]
  },
  {
   "cell_type": "markdown",
   "metadata": {},
   "source": [
    "### Some quick EDA."
   ]
  },
  {
   "cell_type": "code",
   "execution_count": null,
   "metadata": {
    "collapsed": true
   },
   "outputs": [],
   "source": [
    "df_awards_raw.info()"
   ]
  },
  {
   "cell_type": "code",
   "execution_count": null,
   "metadata": {
    "collapsed": true
   },
   "outputs": [],
   "source": [
    "df_awards_raw.year.min()"
   ]
  },
  {
   "cell_type": "markdown",
   "metadata": {},
   "source": [
    "**Hm, that's suspiciously close to a round number. Are we missing some?**"
   ]
  },
  {
   "cell_type": "markdown",
   "metadata": {},
   "source": [
    "**How about recipients?**"
   ]
  },
  {
   "cell_type": "code",
   "execution_count": null,
   "metadata": {
    "collapsed": true
   },
   "outputs": [],
   "source": [
    "df_awards_raw.head()"
   ]
  },
  {
   "cell_type": "code",
   "execution_count": null,
   "metadata": {
    "collapsed": true
   },
   "outputs": [],
   "source": [
    "df_awards_raw.num_recipients.value_counts()"
   ]
  },
  {
   "cell_type": "markdown",
   "metadata": {},
   "source": [
    "Why do some have no recipients?"
   ]
  },
  {
   "cell_type": "code",
   "execution_count": null,
   "metadata": {
    "collapsed": true
   },
   "outputs": [],
   "source": [
    "df_awards_raw[df_awards_raw.num_recipients == 0]"
   ]
  },
  {
   "cell_type": "markdown",
   "metadata": {},
   "source": [
    "Ok: 2018 awards have no recipients because this is a 2018 archived version of nobel prize webpage. Some past years lack awards because there actually were none that year. Let's keep only meaningful data:"
   ]
  },
  {
   "cell_type": "code",
   "execution_count": null,
   "metadata": {
    "collapsed": true
   },
   "outputs": [],
   "source": [
    "df_awards_past = df_awards_raw[df_awards_raw.year != 2018]\n",
    "df_awards_past.info()"
   ]
  },
  {
   "cell_type": "markdown",
   "metadata": {},
   "source": [
    "Hm, `motivation` has a different number of items... why?"
   ]
  },
  {
   "cell_type": "code",
   "execution_count": null,
   "metadata": {
    "collapsed": true
   },
   "outputs": [],
   "source": [
    "df_awards_past[df_awards_past.motivation.isnull()]"
   ]
  },
  {
   "cell_type": "markdown",
   "metadata": {},
   "source": [
    "Looks like it's fine that those motivations were missing."
   ]
  },
  {
   "cell_type": "markdown",
   "metadata": {},
   "source": [
    "**Sort the awards by year.**"
   ]
  },
  {
   "cell_type": "code",
   "execution_count": null,
   "metadata": {
    "collapsed": true
   },
   "outputs": [],
   "source": [
    "df_awards_past.sort_values('year').head()"
   ]
  },
  {
   "cell_type": "markdown",
   "metadata": {},
   "source": [
    "### How many awards of each type were given?"
   ]
  },
  {
   "cell_type": "code",
   "execution_count": null,
   "metadata": {
    "collapsed": true
   },
   "outputs": [],
   "source": [
    "df_awards_past.title.value_counts()"
   ]
  },
  {
   "cell_type": "markdown",
   "metadata": {},
   "source": [
    "But wait, that includes the years the awards weren't offered."
   ]
  },
  {
   "cell_type": "code",
   "execution_count": null,
   "metadata": {
    "collapsed": true
   },
   "outputs": [],
   "source": [
    "df_awards_actually_offered = df_awards_past[df_awards_past.num_recipients > 0]\n",
    "df_awards_actually_offered.title.value_counts()"
   ]
  },
  {
   "cell_type": "markdown",
   "metadata": {},
   "source": [
    "### When was each award first given?"
   ]
  },
  {
   "cell_type": "code",
   "execution_count": null,
   "metadata": {
    "collapsed": true
   },
   "outputs": [],
   "source": [
    "df_awards_actually_offered.groupby('title').year.describe()"
   ]
  },
  {
   "cell_type": "markdown",
   "metadata": {},
   "source": [
    "## How many recipients per year?"
   ]
  },
  {
   "cell_type": "markdown",
   "metadata": {},
   "source": [
    "Let's include the years with missing awards; if we were to analyze further, we'd have to decide whether to include them."
   ]
  },
  {
   "cell_type": "code",
   "execution_count": null,
   "metadata": {
    "collapsed": true
   },
   "outputs": [],
   "source": [
    "df_awards_past.plot.scatter(x='year', y='num_recipients');"
   ]
  },
  {
   "cell_type": "markdown",
   "metadata": {},
   "source": [
    "It's hard to see a trend when there are multiple observations per year (**why?**).\n",
    "\n",
    "Let's try looking at *total* num recipients by year."
   ]
  },
  {
   "cell_type": "code",
   "execution_count": null,
   "metadata": {
    "collapsed": true
   },
   "outputs": [],
   "source": [
    "plt.figure(figsize=[16,6])\n",
    "# plt.plot(df_awards_past.groupby('year').num_recipients.sum(), color = 'b', linewidth='2')\n",
    "plt.plot(df_awards_past.groupby('year').num_recipients.sum(),  '-ob', linewidth='2', alpha = 0.75)\n",
    "\n",
    "plt.title('Total Nobel Awards per year')\n",
    "plt.xlabel('Year')\n",
    "plt.ylabel('Number of recipients')\n",
    "plt.grid('on')\n",
    "plt.show();"
   ]
  },
  {
   "cell_type": "markdown",
   "metadata": {},
   "source": [
    "Check out the years 1940-43? Any comment? "
   ]
  },
  {
   "cell_type": "markdown",
   "metadata": {},
   "source": [
    "Any trends the last 25 years?"
   ]
  },
  {
   "cell_type": "code",
   "execution_count": null,
   "metadata": {
    "collapsed": true
   },
   "outputs": [],
   "source": [
    "plt.figure(figsize=[16,6])\n",
    "i = 0\n",
    "for award in set(df_awards_past.title):\n",
    "    i += 1\n",
    "    year = df_awards_past[df_awards_past['title']==award].year\n",
    "    recips = df_awards_past[df_awards_past['title']==award].num_recipients\n",
    "    index = year>2019-25\n",
    "    years_filtered = year[index].values\n",
    "    recips_filtered = recips[index].values\n",
    "    plt.subplot(2,3,i)\n",
    "    plt.bar(years_filtered,recips_filtered, color='b', alpha = 0.7)\n",
    "    plt.title(award)\n",
    "    plt.xlabel('Year')\n",
    "    plt.ylabel('Number of Recipients')\n",
    "    plt.ylim(0, 3)\n",
    "plt.tight_layout()"
   ]
  },
  {
   "cell_type": "markdown",
   "metadata": {},
   "source": [
    "----------------\n",
    "### End of Standard Section\n",
    "---------------"
   ]
  },
  {
   "cell_type": "markdown",
   "metadata": {},
   "source": [
    "## Extra: Did anyone recieve the Nobel Prize more than once (based upon scraped data)?"
   ]
  },
  {
   "cell_type": "markdown",
   "metadata": {},
   "source": [
    "Here's where it bites us that our original DataFrame isn't \"tidy\". Let's make a tidy one."
   ]
  },
  {
   "cell_type": "code",
   "execution_count": null,
   "metadata": {
    "collapsed": true
   },
   "outputs": [],
   "source": [
    "tidy_awards = []\n",
    "for idx, row in df_awards_past.iterrows():\n",
    "    for recipient in row['recipients']:\n",
    "        tidy_awards.append(dict(\n",
    "            recipient=recipient,\n",
    "            year=row['year']))\n",
    "tidy_awards_df = pd.DataFrame(tidy_awards)\n",
    "tidy_awards_df.info()"
   ]
  },
  {
   "cell_type": "markdown",
   "metadata": {},
   "source": [
    "Now we can look at each recipient individually."
   ]
  },
  {
   "cell_type": "code",
   "execution_count": null,
   "metadata": {
    "collapsed": true
   },
   "outputs": [],
   "source": [
    "tidy_awards_df.recipient.value_counts()"
   ]
  },
  {
   "cell_type": "markdown",
   "metadata": {},
   "source": [
    "## Extra: Other structured data formats: JSON and CSV"
   ]
  },
  {
   "cell_type": "markdown",
   "metadata": {},
   "source": [
    "### CSV\n",
    "CSV is a lowest-common-denominator format for tabular data."
   ]
  },
  {
   "cell_type": "code",
   "execution_count": null,
   "metadata": {
    "collapsed": true
   },
   "outputs": [],
   "source": [
    "df_awards_past.to_csv('../data/awards.csv', index=False)\n",
    "with open('../data/awards.csv', 'r') as f:\n",
    "    print(f.read()[:1000])"
   ]
  },
  {
   "cell_type": "markdown",
   "metadata": {},
   "source": [
    "It loses some info, though: the recipients list became a plain string, and the reader needs to guess whether each column is numeric or not."
   ]
  },
  {
   "cell_type": "code",
   "execution_count": null,
   "metadata": {
    "collapsed": true
   },
   "outputs": [],
   "source": [
    "pd.read_csv('../data/awards.csv').recipients.iloc[20]"
   ]
  },
  {
   "cell_type": "markdown",
   "metadata": {},
   "source": [
    "### JSON"
   ]
  },
  {
   "cell_type": "markdown",
   "metadata": {},
   "source": [
    "JSON preserves structured data, but fewer data-science tools speak it."
   ]
  },
  {
   "cell_type": "code",
   "execution_count": null,
   "metadata": {
    "collapsed": true
   },
   "outputs": [],
   "source": [
    "df_awards_past.to_json('../data/awards.json', orient='records')\n",
    "\n",
    "with open('../data/awards.json', 'r') as f:\n",
    "    print(f.read()[:1000])"
   ]
  },
  {
   "cell_type": "markdown",
   "metadata": {},
   "source": [
    "Lists and other basic data types are preserved. (Custom data types aren't preserved, but you'll get an error when saving.)"
   ]
  },
  {
   "cell_type": "code",
   "execution_count": null,
   "metadata": {
    "collapsed": true
   },
   "outputs": [],
   "source": [
    "pd.read_json('../data/awards.json').recipients.iloc[20]"
   ]
  },
  {
   "cell_type": "markdown",
   "metadata": {},
   "source": [
    "## Extra: Pickle: handy for storing data\n",
    "For temporary data storage in a single version of Python, `pickle`s will preserve your data even more faithfully, even many custom data types. But don't count on it for exchanging data or long-term storage. (In fact, don't try to load untrusted `pickle`s -- they can run arbitrary code!)"
   ]
  },
  {
   "cell_type": "code",
   "execution_count": null,
   "metadata": {
    "collapsed": true
   },
   "outputs": [],
   "source": [
    "df_awards_past.to_pickle('../data/awards.pkl')\n",
    "with open('../data/awards.pkl', 'r', encoding='latin1') as f:\n",
    "    print(f.read()[:200])"
   ]
  },
  {
   "cell_type": "markdown",
   "metadata": {},
   "source": [
    "Yup, lots of internal Python and Pandas stuff..."
   ]
  },
  {
   "cell_type": "code",
   "execution_count": null,
   "metadata": {
    "collapsed": true
   },
   "outputs": [],
   "source": [
    "pd.read_pickle('../data/awards.pkl').recipients.iloc[20]"
   ]
  },
  {
   "cell_type": "markdown",
   "metadata": {},
   "source": [
    "## Extra: Formatted data output"
   ]
  },
  {
   "cell_type": "markdown",
   "metadata": {},
   "source": [
    "Let's make a textual table of Physics laureates by year, earliest first:"
   ]
  },
  {
   "cell_type": "code",
   "execution_count": null,
   "metadata": {
    "collapsed": true
   },
   "outputs": [],
   "source": [
    "for idx, row in df_awards_past.sort_values('year').iterrows():\n",
    "    if 'Physics' in row['title']:\n",
    "        print('{}: {}'.format(\n",
    "            row['year'],\n",
    "            ', '.join(row['recipients'])))\n"
   ]
  },
  {
   "cell_type": "markdown",
   "metadata": {},
   "source": [
    "## Extra: Parsing JSON to get the Wayback Machine URL"
   ]
  },
  {
   "cell_type": "markdown",
   "metadata": {},
   "source": [
    "We could go to http://archive.org, search for our URL, and get the URL for the archived version there. But since you'll often need to talk with APIs, let's take this opportunity to use the Wayback Machine's [API](https://archive.org/help/wayback_api.php). This will also give us a chance to practice working with JSON."
   ]
  },
  {
   "cell_type": "code",
   "execution_count": null,
   "metadata": {
    "collapsed": true
   },
   "outputs": [],
   "source": [
    "url = \"https://www.nobelprize.org/prizes/lists/all-nobel-prizes/\"\n",
    "# All 3 of these do the same thing. The third is my (KCA's) favorite new feature of Python 3.6.\n",
    "wayback_query_url = 'http://archive.org/wayback/available?url={}'.format(url)\n",
    "wayback_query_url = 'http://archive.org/wayback/available?url={url}'.format(url=url)\n",
    "wayback_query_url = f'http://archive.org/wayback/available?url={url}'\n",
    "r = requests.get(wayback_query_url)"
   ]
  },
  {
   "cell_type": "markdown",
   "metadata": {},
   "source": [
    "We got some kind of response... what is it?"
   ]
  },
  {
   "cell_type": "code",
   "execution_count": null,
   "metadata": {
    "collapsed": true
   },
   "outputs": [],
   "source": [
    "r.text"
   ]
  },
  {
   "cell_type": "markdown",
   "metadata": {},
   "source": [
    "Yay, [JSON](https://en.wikipedia.org/wiki/JSON)! It's usually pretty easy to work with JSON, once we parse it."
   ]
  },
  {
   "cell_type": "code",
   "execution_count": null,
   "metadata": {
    "collapsed": true
   },
   "outputs": [],
   "source": [
    "json.loads(r.text)"
   ]
  },
  {
   "cell_type": "markdown",
   "metadata": {},
   "source": [
    "Loading responses as JSON is so common that `requests` has a convenience method for it:"
   ]
  },
  {
   "cell_type": "code",
   "execution_count": null,
   "metadata": {
    "collapsed": true
   },
   "outputs": [],
   "source": [
    "response_json = r.json()\n",
    "response_json"
   ]
  },
  {
   "cell_type": "markdown",
   "metadata": {},
   "source": [
    "**What kind of object is this?**\n",
    "\n",
    "A little Python syntax review: **How can we get the snapshot URL?**"
   ]
  },
  {
   "cell_type": "code",
   "execution_count": null,
   "metadata": {
    "collapsed": true
   },
   "outputs": [],
   "source": [
    "snapshot_url = response_json['archived_snapshots']['closest']['url']\n",
    "snapshot_url"
   ]
  },
  {
   "cell_type": "code",
   "execution_count": null,
   "metadata": {
    "collapsed": true
   },
   "outputs": [],
   "source": []
  }
 ],
 "metadata": {
  "kernelspec": {
   "display_name": "Python 3 (ipykernel)",
   "language": "python",
   "name": "python3"
  },
  "language_info": {
   "codemirror_mode": {
    "name": "ipython",
    "version": 3
   },
   "file_extension": ".py",
   "mimetype": "text/x-python",
   "name": "python",
   "nbconvert_exporter": "python",
   "pygments_lexer": "ipython3",
   "version": "3.9.13"
  },
  "varInspector": {
   "cols": {
    "lenName": 16,
    "lenType": 16,
    "lenVar": 40
   },
   "kernels_config": {
    "python": {
     "delete_cmd_postfix": "",
     "delete_cmd_prefix": "del ",
     "library": "var_list.py",
     "varRefreshCmd": "print(var_dic_list())"
    },
    "r": {
     "delete_cmd_postfix": ") ",
     "delete_cmd_prefix": "rm(",
     "library": "var_list.r",
     "varRefreshCmd": "cat(var_dic_list()) "
    }
   },
   "types_to_exclude": [
    "module",
    "function",
    "builtin_function_or_method",
    "instance",
    "_Feature"
   ],
   "window_display": false
  }
 },
 "nbformat": 4,
 "nbformat_minor": 2
}
